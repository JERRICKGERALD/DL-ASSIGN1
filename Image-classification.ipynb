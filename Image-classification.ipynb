{
 "cells": [
  {
   "cell_type": "code",
   "execution_count": null,
   "metadata": {
    "ExecuteTime": {
     "end_time": "2019-01-09T13:07:10.776969Z",
     "start_time": "2019-01-09T13:07:10.422291Z"
    },
    "_uuid": "9f8f58a2f3d7f3f3aa45a6c139e4e0f243701d66"
   },
   "outputs": [],
   "source": [
    "import psutil\n",
    "import humanize\n",
    "import os\n",
    "from IPython.display import display_html\n",
    "import numpy as np \n",
    "import pandas as pd \n",
    "import os\n",
    "print(os.listdir(\"../input\"))\n",
    "dataDirectory= \"../input/logos-bk-kfc-mcdonald-starbucks-subway-none/logos_v3_mini/logos3\" \n",
    "print(os.listdir(dataDirectory))"
   ]
  },
  {
   "cell_type": "code",
   "execution_count": null,
   "metadata": {
    "_uuid": "db044790b763451aba23a280bf0389cdb34cc133"
   },
   "outputs": [],
   "source": [
    "print(os.listdir(\"../input\"))"
   ]
  },
  {
   "cell_type": "code",
   "execution_count": null,
   "metadata": {
    "_uuid": "f9d738750cfa097a0ec3620830882ae683b6439c"
   },
   "outputs": [],
   "source": [
    "!rm -r ~/.keras\n",
    "!mkdir ~/.keras\n",
    "!mkdir ~/.keras/models\n",
    "!cp ../input/keras-pretrained-models/*notop* ~/.keras/models/\n",
    "!cp ../input/keras-pretrained-models/imagenet_class_index.json ~/.keras/models"
   ]
  },
  {
   "cell_type": "markdown",
   "metadata": {
    "_uuid": "1029127f7837680f1e44baf470ecccc0b1de3e78"
   },
   "source": [
    "# Dependicies"
   ]
  },
  {
   "cell_type": "code",
   "execution_count": null,
   "metadata": {
    "ExecuteTime": {
     "end_time": "2019-01-09T13:07:17.758376Z",
     "start_time": "2019-01-09T13:07:14.178196Z"
    },
    "_uuid": "a24ba7049747ccf65fedb8bd110e95085324ac69"
   },
   "outputs": [],
   "source": [
    "import numpy as np\n",
    "import keras\n",
    "from keras import backend as K\n",
    "from keras.models import Sequential\n",
    "from keras.models import Model\n",
    "from keras.layers import Activation\n",
    "from keras.layers.core import Dense, Flatten\n",
    "from keras.optimizers import Adam\n",
    "from keras.metrics import categorical_crossentropy\n",
    "from keras.preprocessing.image import ImageDataGenerator\n",
    "from keras.layers.normalization import BatchNormalization\n",
    "from keras.layers.core import Dropout\n",
    "from keras.layers.convolutional import *\n",
    "from keras.callbacks import ModelCheckpoint\n",
    "from keras.applications.inception_v3 import InceptionV3\n",
    "from keras.applications.inception_v3 import preprocess_input\n",
    "from keras.applications.inception_v3 import decode_predictions\n",
    "from sklearn.metrics import confusion_matrix\n",
    "from sklearn.metrics import average_precision_score\n",
    "from sklearn.metrics import recall_score\n",
    "from sklearn.metrics import precision_score\n",
    "from sklearn.metrics import accuracy_score\n",
    "from sklearn.metrics import classification_report\n",
    "from keras.models import model_from_json\n",
    "import itertools\n",
    "import matplotlib.pyplot as plt\n",
    "import time\n",
    "import pandas as pd\n",
    "%matplotlib inline"
   ]
  },
  {
   "cell_type": "markdown",
   "metadata": {
    "ExecuteTime": {
     "end_time": "2019-01-05T14:22:47.433070Z",
     "start_time": "2019-01-05T14:22:47.430671Z"
    },
    "_uuid": "faf966e851d1929109be9017f0d1a2a270a89d7f"
   },
   "source": [
    "# Paths to data"
   ]
  },
  {
   "cell_type": "code",
   "execution_count": null,
   "metadata": {
    "ExecuteTime": {
     "end_time": "2019-01-09T13:07:22.876334Z",
     "start_time": "2019-01-09T13:07:22.873337Z"
    },
    "_uuid": "f919a9fbab28681b60e7b5c14497646bb25db626"
   },
   "outputs": [],
   "source": [
    "train_path = dataDirectory+'/train'\n",
    "test_path  = dataDirectory+'/test'\n",
    "print(os.listdir(train_path))\n",
    "print(os.listdir(test_path))"
   ]
  },
  {
   "cell_type": "code",
   "execution_count": null,
   "metadata": {
    "ExecuteTime": {
     "end_time": "2019-01-09T13:07:25.775332Z",
     "start_time": "2019-01-09T13:07:25.770269Z"
    },
    "_uuid": "09c3acf9ee5a13ec88e77ffabecac8db1f7730c2"
   },
   "outputs": [],
   "source": [
    "train_datagen = ImageDataGenerator(\n",
    "        rotation_range=40,\n",
    "        width_shift_range=0.2,\n",
    "        height_shift_range=0.2,\n",
    "        shear_range=0.2,\n",
    "        zoom_range=0.2,\n",
    "        fill_mode='nearest',\n",
    "    validation_split=0.2) # set validation split\n",
    "\n",
    "\n"
   ]
  },
  {
   "cell_type": "markdown",
   "metadata": {
    "ExecuteTime": {
     "end_time": "2019-01-05T18:33:27.798342Z",
     "start_time": "2019-01-05T18:33:27.753729Z"
    },
    "_uuid": "ffd65f86e656f872f6b0ab4065f0fa55b652bac0"
   },
   "source": [
    "## Load data from directory"
   ]
  },
  {
   "cell_type": "code",
   "execution_count": null,
   "metadata": {
    "ExecuteTime": {
     "end_time": "2019-01-09T13:07:28.740441Z",
     "start_time": "2019-01-09T13:07:28.733768Z"
    },
    "_uuid": "836567f18b81934110967ed45d1787dc40a69bdc"
   },
   "outputs": [],
   "source": [
    "selectedClasses = ['Burger King', 'KFC','McDonalds','Other', 'Starbucks', 'Subway'] "
   ]
  },
  {
   "cell_type": "markdown",
   "metadata": {
    "_uuid": "bda919ca1dce144901b1cbc75157a27257ecaf5e"
   },
   "source": [
    "### Load images from the selected directories"
   ]
  },
  {
   "cell_type": "code",
   "execution_count": null,
   "metadata": {
    "ExecuteTime": {
     "end_time": "2019-01-09T13:07:32.410674Z",
     "start_time": "2019-01-09T13:07:32.094571Z"
    },
    "_uuid": "5043a42d1d912b9822d9dbc79991b232a159cfc3"
   },
   "outputs": [],
   "source": [
    "batchSize=32\n",
    "train_generator = train_datagen.flow_from_directory(\n",
    "    train_path,\n",
    "    target_size=(224, 224),\n",
    "    batch_size=batchSize,\n",
    "    classes=selectedClasses,\n",
    "    subset='training') \n",
    "validation_generator = train_datagen.flow_from_directory(\n",
    "    train_path, \n",
    "    target_size=(224, 224),\n",
    "    batch_size=batchSize,\n",
    "    classes=selectedClasses,\n",
    "    subset='validation')\n",
    "\n",
    "test_generator = ImageDataGenerator().flow_from_directory(\n",
    "    test_path, \n",
    "    target_size=(224,224), \n",
    "    classes=selectedClasses,\n",
    "    shuffle= False,\n",
    "    batch_size = batchSize)"
   ]
  },
  {
   "cell_type": "markdown",
   "metadata": {
    "_uuid": "c2987d3cda9be14d99cc81125db03bf27870894c"
   },
   "source": [
    "### Number of samples of each class in all data generators"
   ]
  },
  {
   "cell_type": "code",
   "execution_count": null,
   "metadata": {
    "ExecuteTime": {
     "end_time": "2019-01-09T13:07:44.152795Z",
     "start_time": "2019-01-09T13:07:44.098003Z"
    },
    "_uuid": "0595d02d8435cd93b833a62c85ba3fcd0f0481bb"
   },
   "outputs": [],
   "source": [
    "print (\"In train_generator \")\n",
    "for cls in range(len (train_generator.class_indices)):\n",
    "    print(selectedClasses[cls],\":\\t\",list(train_generator.classes).count(cls))\n",
    "print (\"\") \n",
    "\n",
    "print (\"In validation_generator \")\n",
    "for cls in range(len (validation_generator.class_indices)):\n",
    "    print(selectedClasses[cls],\":\\t\",list(validation_generator.classes).count(cls))\n",
    "print (\"\") \n",
    "\n",
    "print (\"In test_generator \")\n",
    "for cls in range(len (test_generator.class_indices)):\n",
    "    print(selectedClasses[cls],\":\\t\",list(test_generator.classes).count(cls))\n",
    "\n"
   ]
  },
  {
   "cell_type": "markdown",
   "metadata": {
    "ExecuteTime": {
     "end_time": "2019-01-05T14:25:22.301409Z",
     "start_time": "2019-01-05T14:25:22.299279Z"
    },
    "_uuid": "ecfeaabf4bc7575099f847278db3a57f3c2697ec"
   },
   "source": [
    "# Auxilary Functions for ploting images"
   ]
  },
  {
   "cell_type": "code",
   "execution_count": null,
   "metadata": {
    "ExecuteTime": {
     "end_time": "2019-01-09T13:07:56.700309Z",
     "start_time": "2019-01-09T13:07:56.689889Z"
    },
    "_uuid": "3d7b81115db39b7e1a8e7b6d6410939ca0323697"
   },
   "outputs": [],
   "source": [
    "def plots(ims, figsize = (22,22), rows=4, interp=False, titles=None, maxNum = 9):\n",
    "    if type(ims[0] is np.ndarray):\n",
    "        ims = np.array(ims).astype(np.uint8)\n",
    "        if(ims.shape[-1] != 3):\n",
    "            ims = ims.transpose((0,2,3,1))\n",
    "           \n",
    "    f = plt.figure(figsize=figsize)\n",
    "   \n",
    "    cols = maxNum // rows if maxNum % 2 == 0 else maxNum//rows + 1\n",
    "    \n",
    "    for i in range(maxNum):\n",
    "        sp = f.add_subplot(rows, cols, i+1)\n",
    "        sp.axis('Off')\n",
    "        if titles is not None:\n",
    "            sp.set_title(titles[i], fontsize=20)\n",
    "        plt.imshow(ims[i], interpolation = None if interp else 'none')   "
   ]
  },
  {
   "cell_type": "markdown",
   "metadata": {
    "_uuid": "d97813aa2622426659aac3fb22f396c88540aed9"
   },
   "source": [
    "# Plot some train data"
   ]
  },
  {
   "cell_type": "code",
   "execution_count": null,
   "metadata": {
    "ExecuteTime": {
     "end_time": "2019-01-09T13:08:00.355468Z",
     "start_time": "2019-01-09T13:07:59.925891Z"
    },
    "_uuid": "263992d1d13980b31f954df0cb3052d86d5e61bb"
   },
   "outputs": [],
   "source": [
    "train_generator.reset()\n",
    "imgs, labels = train_generator.next()\n",
    "\n",
    "#print(labels)\n",
    "\n",
    "labelNames=[]\n",
    "labelIndices=[np.where(r==1)[0][0] for r in labels]\n",
    "#print(labelIndices)\n",
    "\n",
    "for ind in labelIndices:\n",
    "    for labelName,labelIndex in train_generator.class_indices.items():\n",
    "        if labelIndex == ind:\n",
    "            #print (labelName)\n",
    "            labelNames.append(labelName)\n",
    "\n",
    "#labels"
   ]
  },
  {
   "cell_type": "code",
   "execution_count": null,
   "metadata": {
    "ExecuteTime": {
     "end_time": "2019-01-09T13:44:49.433304Z",
     "start_time": "2019-01-09T13:44:47.755121Z"
    },
    "_uuid": "e17055210f95bc60b695963ba9d334d897ed7d46",
    "scrolled": true
   },
   "outputs": [],
   "source": [
    "plots(imgs, rows=4, titles = labelNames, maxNum=8)"
   ]
  },
  {
   "cell_type": "code",
   "execution_count": null,
   "metadata": {
    "ExecuteTime": {
     "end_time": "2019-01-09T13:08:27.458145Z",
     "start_time": "2019-01-09T13:08:16.468492Z"
    },
    "_uuid": "11f0af64c03f1aaa286072d9996df84df3c09ed0"
   },
   "outputs": [],
   "source": [
    "base_model = InceptionV3(weights='imagenet', \n",
    "                                include_top=False, \n",
    "                                input_shape=(224, 224,3))\n",
    "base_model.trainable = False\n",
    "x = base_model.output\n",
    "x = keras.layers.GlobalAveragePooling2D()(x)\n",
    "x = Dropout(0.5)(x)\n",
    "predictions = Dense(len(selectedClasses), activation='softmax')(x)\n",
    "model = Model(input=base_model.input, output=predictions)\n",
    "model.summary()"
   ]
  },
  {
   "cell_type": "code",
   "execution_count": null,
   "metadata": {
    "ExecuteTime": {
     "end_time": "2019-01-09T13:08:48.701546Z",
     "start_time": "2019-01-09T13:08:48.695053Z"
    },
    "_uuid": "60d683159d4600d64a2a682c7331060bd6003cd8"
   },
   "outputs": [],
   "source": [
    "modelName= \"InceptionTutorial\"\n",
    "filepath=modelName+\"_bestweights.hdf5\"\n",
    "checkpoint = ModelCheckpoint(filepath, monitor='val_acc', verbose=1, save_best_only=True, mode='max')\n",
    "callbacks_list = [checkpoint]"
   ]
  },
  {
   "cell_type": "markdown",
   "metadata": {
    "_uuid": "341249dc9e3894599e285872f95b4247096fef1f"
   },
   "source": [
    "# Compile the model "
   ]
  },
  {
   "cell_type": "code",
   "execution_count": null,
   "metadata": {
    "ExecuteTime": {
     "end_time": "2019-01-09T13:08:53.428701Z",
     "start_time": "2019-01-09T13:08:53.392290Z"
    },
    "_uuid": "384512b8dc2bae349f1183f400fc0c33d6baa161"
   },
   "outputs": [],
   "source": [
    "model.compile(Adam(lr=0.0001), loss='categorical_crossentropy', metrics=['accuracy'])"
   ]
  },
  {
   "cell_type": "code",
   "execution_count": null,
   "metadata": {
    "ExecuteTime": {
     "end_time": "2019-01-09T13:09:01.148991Z",
     "start_time": "2019-01-09T13:09:01.145694Z"
    },
    "_uuid": "8e2d8697a0879f08a81ac3e60d9af38c9744a382"
   },
   "outputs": [],
   "source": [
    "stepsPerEpoch= (train_generator.samples+ (batchSize-1)) // batchSize\n",
    "print(\"stepsPerEpoch: \", stepsPerEpoch)\n",
    "\n",
    "validationSteps=(validation_generator.samples+ (batchSize-1)) // batchSize\n",
    "print(\"validationSteps: \", validationSteps)"
   ]
  },
  {
   "cell_type": "markdown",
   "metadata": {
    "_uuid": "aa14c843f83ff9d15695c67d29ef0b1bfe0c332c"
   },
   "source": [
    "## Train\n",
    "Run more epochs for increasing the accuracy. For example:\n",
    "\n",
    "**epochs = 30**"
   ]
  },
  {
   "cell_type": "code",
   "execution_count": null,
   "metadata": {
    "ExecuteTime": {
     "end_time": "2019-01-09T13:22:21.292429Z",
     "start_time": "2019-01-09T13:09:07.699592Z"
    },
    "_uuid": "58a89d7b09c137e98e04da2183cff05534b92acc",
    "scrolled": true
   },
   "outputs": [],
   "source": [
    "train_generator.reset()\n",
    "validation_generator.reset()\n",
    "history = model.fit_generator(\n",
    "    train_generator, \n",
    "    validation_data = validation_generator,\n",
    "    epochs = 3,\n",
    "    steps_per_epoch = stepsPerEpoch,\n",
    "    validation_steps= validationSteps,\n",
    "    callbacks=callbacks_list,\n",
    "    verbose=1)"
   ]
  },
  {
   "cell_type": "markdown",
   "metadata": {
    "ExecuteTime": {
     "end_time": "2019-01-04T15:02:52.400593Z",
     "start_time": "2019-01-04T15:02:52.379084Z"
    },
    "_uuid": "4480be219fcbae7945a5beb240f48fb03b7a7724"
   },
   "source": [
    "## Show Training History\n",
    "We can plot the accuracy and loss values for each epoch using the history object as follows."
   ]
  },
  {
   "cell_type": "code",
   "execution_count": null,
   "metadata": {
    "ExecuteTime": {
     "end_time": "2019-01-09T13:26:39.841034Z",
     "start_time": "2019-01-09T13:26:39.550017Z"
    },
    "_uuid": "d34127320eedf15d4098938111e3fbcbc65997ac"
   },
   "outputs": [],
   "source": [
    "print(history.history.keys())\n",
    "plt.plot(history.history['acc'])\n",
    "plt.plot(history.history['val_acc'])\n",
    "plt.title('model accuracy')\n",
    "plt.ylabel('accuracy')\n",
    "plt.xlabel('epoch')\n",
    "plt.legend(['train', 'Validation'], loc='upper left')\n",
    "plt.show()\n",
    "plt.plot(history.history['loss'])\n",
    "plt.plot(history.history['val_loss'])\n",
    "plt.title('model loss')\n",
    "plt.ylabel('loss')\n",
    "plt.xlabel('epoch')\n",
    "plt.legend(['train', 'validation'], loc='upper left')\n",
    "plt.show()"
   ]
  },
  {
   "cell_type": "markdown",
   "metadata": {
    "ExecuteTime": {
     "end_time": "2019-01-04T15:03:36.797882Z",
     "start_time": "2019-01-04T15:03:36.735271Z"
    },
    "_uuid": "d27c1f115b5dbe469520a380c04f55d8286713ee"
   },
   "source": [
    "# Save the model and last weights"
   ]
  },
  {
   "cell_type": "code",
   "execution_count": null,
   "metadata": {
    "ExecuteTime": {
     "end_time": "2019-01-09T13:27:25.956442Z",
     "start_time": "2019-01-09T13:27:25.489749Z"
    },
    "_uuid": "63f06adfdffb63e8fcaad039b1af3386bce6940d"
   },
   "outputs": [],
   "source": [
    "timestr = time.strftime(\"%Y%m%d_%H%M%S\")\n",
    "model_json = model.to_json()\n",
    "with open(timestr+\"_\"+modelName+\"_MODEL_3\"+\".json\", \"w\") as json_file:\n",
    "    json_file.write(model_json)\n",
    "\n",
    "model.save_weights(timestr+\"_\"+modelName+\"_3_LAST_WEIGHTS_\"+\".h5\")\n"
   ]
  },
  {
   "cell_type": "markdown",
   "metadata": {
    "_uuid": "61b3eed9d560a19f0e7bfe8a52db4d89c4bc3c7e"
   },
   "source": [
    "# Upload the model and best weights"
   ]
  },
  {
   "cell_type": "code",
   "execution_count": null,
   "metadata": {
    "ExecuteTime": {
     "end_time": "2019-01-07T20:31:16.942396Z",
     "start_time": "2019-01-07T20:31:06.361077Z"
    },
    "_uuid": "35cc7970fe3123432bd957969e47b5167600b834"
   },
   "outputs": [],
   "source": [
    "json_file = open('20190107_220958_InceptionTutorial_MODEL_3.json', 'r')\n",
    "loaded_model_json = json_file.read()\n",
    "json_file.close()\n",
    "model = model_from_json(loaded_model_json)"
   ]
  },
  {
   "cell_type": "code",
   "execution_count": null,
   "metadata": {
    "ExecuteTime": {
     "end_time": "2019-01-08T15:24:24.756231Z",
     "start_time": "2019-01-08T15:24:23.557099Z"
    },
    "_uuid": "f65fa75bddedc9712ee2207ce8c5981b8c0ecbbe"
   },
   "outputs": [],
   "source": [
    "model.load_weights(\"InceptionTutorial_bestweights.hdf5\")"
   ]
  },
  {
   "cell_type": "code",
   "execution_count": null,
   "metadata": {
    "ExecuteTime": {
     "end_time": "2019-01-09T13:28:15.796586Z",
     "start_time": "2019-01-09T13:28:11.237889Z"
    },
    "_uuid": "c0b173b03c4adb8e0f4eba3c8eb47842bfce3e41"
   },
   "outputs": [],
   "source": [
    "validation_generator.reset()\n",
    "score = model.evaluate_generator(validation_generator, (validation_generator.samples + (batchSize-1)) //batchSize)\n",
    "print(\"For validation data set; Loss: \",score[0],\" Accuracy: \", score[1])"
   ]
  },
  {
   "cell_type": "code",
   "execution_count": null,
   "metadata": {
    "ExecuteTime": {
     "end_time": "2019-01-09T13:28:23.848007Z",
     "start_time": "2019-01-09T13:28:21.568482Z"
    },
    "_uuid": "99523b3393cee02ea1b48d216687159a26192683"
   },
   "outputs": [],
   "source": [
    "test_generator.reset()\n",
    "score = model.evaluate_generator(test_generator, (test_generator.samples + (batchSize-1)) // batchSize)\n",
    "print(\"For test data set; Loss: \",score[0],\" Accuracy: \", score[1])"
   ]
  },
  {
   "cell_type": "code",
   "execution_count": null,
   "metadata": {
    "ExecuteTime": {
     "end_time": "2019-01-09T13:28:41.444803Z",
     "start_time": "2019-01-09T13:28:38.501881Z"
    },
    "_uuid": "c43f00125130013ab750d1b5befbf4269d9e5492"
   },
   "outputs": [],
   "source": [
    "test_generator.reset()\n",
    "testStep = (test_generator.samples + (batchSize-1)) // batchSize\n",
    "print(\"testStep: \", testStep)\n",
    "predictions = model.predict_generator(test_generator, steps = testStep ,  verbose = 1)\n",
    "len(predictions)"
   ]
  },
  {
   "cell_type": "code",
   "execution_count": null,
   "metadata": {
    "ExecuteTime": {
     "end_time": "2019-01-09T13:28:45.298195Z",
     "start_time": "2019-01-09T13:28:45.284963Z"
    },
    "_uuid": "137a443de66fab9182e206d778fb94359b0628d3"
   },
   "outputs": [],
   "source": [
    "len(predictions)"
   ]
  },
  {
   "cell_type": "code",
   "execution_count": null,
   "metadata": {
    "ExecuteTime": {
     "end_time": "2019-01-09T13:28:48.698938Z",
     "start_time": "2019-01-09T13:28:48.624694Z"
    },
    "_uuid": "f61ef1ec90bbf8c3d4edfef723ab649e9ffa56a6",
    "scrolled": true
   },
   "outputs": [],
   "source": [
    "predicted_class_indices=np.argmax(predictions,axis=1)\n",
    "print(predicted_class_indices)\n",
    "len(predicted_class_indices)"
   ]
  },
  {
   "cell_type": "code",
   "execution_count": null,
   "metadata": {
    "ExecuteTime": {
     "end_time": "2019-01-09T13:28:52.602535Z",
     "start_time": "2019-01-09T13:28:52.594836Z"
    },
    "_uuid": "4ac4553ca941927a6c47093bafec7b4e1de1e345"
   },
   "outputs": [],
   "source": [
    "labels = (test_generator.class_indices)\n",
    "print(labels)"
   ]
  },
  {
   "cell_type": "code",
   "execution_count": null,
   "metadata": {
    "ExecuteTime": {
     "end_time": "2019-01-09T13:28:55.025943Z",
     "start_time": "2019-01-09T13:28:55.022040Z"
    },
    "_uuid": "b7252d18680df0641e3957932c19951b5c951c1e"
   },
   "outputs": [],
   "source": [
    "labels = dict((v,k) for k,v in labels.items())\n",
    "print(labels)"
   ]
  },
  {
   "cell_type": "code",
   "execution_count": null,
   "metadata": {
    "ExecuteTime": {
     "end_time": "2019-01-09T13:29:00.909221Z",
     "start_time": "2019-01-09T13:29:00.905333Z"
    },
    "_uuid": "d41cc4d806a2a534966687a622d3154379347014"
   },
   "outputs": [],
   "source": [
    "predictedLables= [labels[k] for k in predicted_class_indices]\n",
    "print(predictedLables)\n",
    "len(predictedLables)"
   ]
  },
  {
   "cell_type": "code",
   "execution_count": null,
   "metadata": {
    "ExecuteTime": {
     "end_time": "2019-01-09T13:29:06.957568Z",
     "start_time": "2019-01-09T13:29:06.952552Z"
    },
    "_uuid": "759efefb9cff5d1855e8c28e04d3b0c294fd8ba9"
   },
   "outputs": [],
   "source": [
    "actualLables= [labels[k] for k in test_generator.classes]\n",
    "print(actualLables)\n",
    "len(actualLables)"
   ]
  },
  {
   "cell_type": "code",
   "execution_count": null,
   "metadata": {
    "ExecuteTime": {
     "end_time": "2019-01-09T13:29:16.498931Z",
     "start_time": "2019-01-09T13:29:16.429254Z"
    },
    "_uuid": "93fe24e2e91f4db7483c01ef7c207f11659983fc"
   },
   "outputs": [],
   "source": [
    "accuracy_score(actualLables, predictedLables)"
   ]
  },
  {
   "cell_type": "code",
   "execution_count": null,
   "metadata": {
    "ExecuteTime": {
     "end_time": "2019-01-09T13:29:20.900414Z",
     "start_time": "2019-01-09T13:29:20.855290Z"
    },
    "_uuid": "656c4a43531f3e31e475f6acac3d5a3da2b4da6a"
   },
   "outputs": [],
   "source": [
    "matrix = confusion_matrix(actualLables, predictedLables)\n",
    "print(labels)\n",
    "matrix"
   ]
  },
  {
   "cell_type": "code",
   "execution_count": null,
   "metadata": {
    "ExecuteTime": {
     "end_time": "2019-01-09T13:29:50.508436Z",
     "start_time": "2019-01-09T13:29:50.431035Z"
    },
    "_uuid": "a9fb3245cf878eb98e82d5bbcbc1f73df53836d0"
   },
   "outputs": [],
   "source": [
    "print(classification_report(actualLables, predictedLables))"
   ]
  },
  {
   "cell_type": "code",
   "execution_count": null,
   "metadata": {
    "ExecuteTime": {
     "end_time": "2019-01-09T13:30:23.304716Z",
     "start_time": "2019-01-09T13:30:23.261018Z"
    },
    "_uuid": "2444b26d44da948cd8b31ca8a7c709587a7a3036"
   },
   "outputs": [],
   "source": [
    "recall_score( actualLables, predictedLables,average='weighted') "
   ]
  },
  {
   "cell_type": "code",
   "execution_count": null,
   "metadata": {
    "ExecuteTime": {
     "end_time": "2019-01-09T13:30:25.298258Z",
     "start_time": "2019-01-09T13:30:25.276103Z"
    },
    "_uuid": "246423d14fd50146b3d9b090288c28286be429c0"
   },
   "outputs": [],
   "source": [
    "precision_score( actualLables, predictedLables,average='weighted') "
   ]
  },
  {
   "cell_type": "markdown",
   "metadata": {
    "_uuid": "8cf61d82112234efcbf0567636561e5bbf497ae5"
   },
   "source": [
    "## Plot the confusion matrix"
   ]
  },
  {
   "cell_type": "code",
   "execution_count": null,
   "metadata": {
    "ExecuteTime": {
     "end_time": "2019-01-09T13:30:29.370813Z",
     "start_time": "2019-01-09T13:30:29.359923Z"
    },
    "_uuid": "013e3989b0aa81e31f27b73f05febf25d310ee68"
   },
   "outputs": [],
   "source": [
    "def plot_confusion_matrix(cm, classes,\n",
    "                          normalize=False,\n",
    "                          title='Confusion matrix',\n",
    "    \n",
    "    if normalize:\n",
    "        cm = cm.astype('float') / cm.sum(axis=1)[:, np.newaxis]\n",
    "        print(\"Normalized confusion matrix\")\n",
    "    else:\n",
    "        print('Confusion matrix, without normalization')\n",
    "\n",
    "    print(cm)\n",
    "\n",
    "    plt.imshow(cm, interpolation='nearest', cmap=cmap)\n",
    "    plt.title(title)\n",
    "    plt.colorbar()\n",
    "    tick_marks = np.arange(len(classes))\n",
    "    plt.xticks(tick_marks, classes, rotation=45)\n",
    "    plt.yticks(tick_marks, classes)\n",
    "\n",
    "    fmt = '.2f' if normalize else 'd'\n",
    "    thresh = cm.max() / 2.\n",
    "    for i, j in itertools.product(range(cm.shape[0]), range(cm.shape[1])):\n",
    "        plt.text(j, i, format(cm[i, j], fmt),\n",
    "                 horizontalalignment=\"center\",\n",
    "                 color=\"white\" if cm[i, j] > thresh else \"black\")\n",
    "\n",
    "    plt.tight_layout()\n",
    "    plt.ylabel('True label')\n",
    "    plt.xlabel('Predicted label')"
   ]
  },
  {
   "cell_type": "code",
   "execution_count": null,
   "metadata": {
    "ExecuteTime": {
     "end_time": "2019-01-09T13:30:33.281617Z",
     "start_time": "2019-01-09T13:30:32.665103Z"
    },
    "_uuid": "e08bfa3da86fe9847d3d6aa6620816720816ae2d"
   },
   "outputs": [],
   "source": [
    "cm_plot_labels = selectedClasses\n",
    "plot_confusion_matrix(matrix,cm_plot_labels, normalize=False\n",
    "                      , title = 'Confusion Matrix')"
   ]
  },
  {
   "cell_type": "code",
   "execution_count": null,
   "metadata": {
    "ExecuteTime": {
     "end_time": "2019-01-09T13:31:14.133995Z",
     "start_time": "2019-01-09T13:31:14.127518Z"
    },
    "_uuid": "0d6c0c865d8c60f7b32a70191b8c7fb44c52350d"
   },
   "outputs": [],
   "source": [
    "filenames=test_generator.filenames\n",
    "directory= test_generator.directory\n",
    "results=pd.DataFrame({\"Directory\":directory,\n",
    "                      \"Filename\":filenames,\n",
    "                      \"Predictions\":predictedLables,\n",
    "                     \"Actuals\": actualLables })\n",
    "results.to_csv(\"results.csv\",index=False)"
   ]
  },
  {
   "cell_type": "markdown",
   "metadata": {
    "_uuid": "f19385ec7c555892bb8f0a6e9f5fd25f763275ec"
   },
   "source": [
    "# Show some sample predictions with corresponding true labels\n"
   ]
  },
  {
   "cell_type": "code",
   "execution_count": null,
   "metadata": {
    "ExecuteTime": {
     "end_time": "2019-01-09T13:42:41.071454Z",
     "start_time": "2019-01-09T13:42:35.745755Z"
    },
    "_uuid": "2b2216bc0d194f5b89e5ad691c9fe62f800aa301"
   },
   "outputs": [],
   "source": [
    "import matplotlib.image as mpimg\n",
    "%matplotlib inline\n",
    "res = results[260:280]\n",
    "images = []\n",
    "for img_path in \"./\"+res['Directory']+\"/\"+res['Filename']:\n",
    "    images.append(mpimg.imread(img_path))\n",
    "plt.figure(figsize=(80,80))\n",
    "columns = 4\n",
    "for i, image in enumerate(images):\n",
    "    ax= plt.subplot(len(images) / columns + 1, columns, i + 1)\n",
    "    ax.set_title(res['Actuals'].iloc[i]+\" \"+res['Predictions'].iloc[i], fontsize=40)\n",
    "    plt.imshow(image)"
   ]
  }
 ],
 "metadata": {
  "kernelspec": {
   "display_name": "Python 3",
   "language": "python",
   "name": "python3"
  },
  "language_info": {
   "codemirror_mode": {
    "name": "ipython",
    "version": 3
   },
   "file_extension": ".py",
   "mimetype": "text/x-python",
   "name": "python",
   "nbconvert_exporter": "python",
   "pygments_lexer": "ipython3",
   "version": "3.8.5"
  },
  "toc": {
   "base_numbering": 1,
   "nav_menu": {},
   "number_sections": true,
   "sideBar": true,
   "skip_h1_title": false,
   "title_cell": "Table of Contents",
   "title_sidebar": "Contents",
   "toc_cell": false,
   "toc_position": {
    "height": "calc(100% - 180px)",
    "left": "10px",
    "top": "150px",
    "width": "380.797px"
   },
   "toc_section_display": true,
   "toc_window_display": false
  },
  "varInspector": {
   "cols": {
    "lenName": 16,
    "lenType": 16,
    "lenVar": 40
   },
   "kernels_config": {
    "python": {
     "delete_cmd_postfix": "",
     "delete_cmd_prefix": "del ",
     "library": "var_list.py",
     "varRefreshCmd": "print(var_dic_list())"
    },
    "r": {
     "delete_cmd_postfix": ") ",
     "delete_cmd_prefix": "rm(",
     "library": "var_list.r",
     "varRefreshCmd": "cat(var_dic_list()) "
    }
   },
   "position": {
    "height": "493px",
    "left": "1540px",
    "right": "20px",
    "top": "120px",
    "width": "350px"
   },
   "types_to_exclude": [
    "module",
    "function",
    "builtin_function_or_method",
    "instance",
    "_Feature"
   ],
   "window_display": false
  }
 },
 "nbformat": 4,
 "nbformat_minor": 1
}
